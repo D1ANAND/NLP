{
 "cells": [
  {
   "cell_type": "code",
   "execution_count": null,
   "metadata": {},
   "outputs": [],
   "source": [
    "%pip install ibm_watson"
   ]
  },
  {
   "cell_type": "markdown",
   "metadata": {},
   "source": [
    "## 1. Authenticate"
   ]
  },
  {
   "cell_type": "code",
   "execution_count": 1,
   "metadata": {},
   "outputs": [],
   "source": [
    "apikey='NQpz67ddk_MJRVcwhtddrVB8NYPQbePLNdw3IfY6JhFO'\n",
    "url='https://api.au-syd.natural-language-understanding.watson.cloud.ibm.com/instances/a545d5dd-57e4-474d-9801-d1318294d5e7'"
   ]
  },
  {
   "cell_type": "code",
   "execution_count": 50,
   "metadata": {},
   "outputs": [],
   "source": [
    "from ibm_watson import NaturalLanguageUnderstandingV1\n",
    "from ibm_watson.natural_language_understanding_v1 import Features,EmotionOptions,SentimentOptions\n",
    "from ibm_cloud_sdk_core.authenticators import IAMAuthenticator\n"
   ]
  },
  {
   "cell_type": "code",
   "execution_count": 60,
   "metadata": {},
   "outputs": [],
   "source": [
    "authenticator=IAMAuthenticator(apikey)\n",
    "nlu=NaturalLanguageUnderstandingV1(version='2022-08-10', authenticator=authenticator)\n",
    "nlu.set_service_url(url)"
   ]
  },
  {
   "cell_type": "markdown",
   "metadata": {},
   "source": [
    "# 2. Analyse Tone"
   ]
  },
  {
   "cell_type": "code",
   "execution_count": 61,
   "metadata": {},
   "outputs": [],
   "source": [
    "text='This sucks, I wish I wasnt here!'"
   ]
  },
  {
   "cell_type": "code",
   "execution_count": 68,
   "metadata": {},
   "outputs": [
    {
     "data": {
      "text/plain": [
       "{'usage': {'text_units': 1, 'text_characters': 94, 'features': 2},\n",
       " 'sentiment': {'document': {'score': -0.964547, 'label': 'negative'}},\n",
       " 'language': 'en',\n",
       " 'emotion': {'document': {'emotion': {'sadness': 0.191369,\n",
       "    'joy': 0.340699,\n",
       "    'fear': 0.11987,\n",
       "    'disgust': 0.008043,\n",
       "    'anger': 0.096207}}}}"
      ]
     },
     "execution_count": 68,
     "metadata": {},
     "output_type": "execute_result"
    }
   ],
   "source": [
    "res = nlu.analyze(text=text,features=Features(sentiment=SentimentOptions(),emotion=EmotionOptions())).get_result()  #Here (text=) parameter takes only strings not list or dictionary\n",
    "res"
   ]
  },
  {
   "cell_type": "markdown",
   "metadata": {},
   "source": [
    "# 3. Analyze Chat Tone"
   ]
  },
  {
   "cell_type": "code",
   "execution_count": 63,
   "metadata": {},
   "outputs": [],
   "source": [
    "chat =[\n",
    "\n",
    " {\n",
    "    \"text\":\"I feel great, it's sunny outside, and I've got all my work done.\",\n",
    "    \"user\":\"He who shall not be named\"\n",
    "\n",
    "},\n",
    "{\n",
    "    \"text\":\"This sucks, I have like 500 hundred hours more coding to do. This is going to take all weekend\",\n",
    "    \"user\":\"Nick\"\n",
    "}\n",
    "]"
   ]
  },
  {
   "cell_type": "markdown",
   "metadata": {},
   "source": [
    "If you want to analyze the sentiment and emotion for each text in the chat list, you should iterate over the list and call the analyze method for each text individually. Here's the correct way to do it:"
   ]
  },
  {
   "cell_type": "code",
   "execution_count": 69,
   "metadata": {},
   "outputs": [],
   "source": [
    "results = []\n",
    "for entry in chat:\n",
    "    text = entry[\"text\"]\n",
    "    user = entry[\"user\"]\n",
    "\n",
    "    res = nlu.analyze(\n",
    "        text=text,\n",
    "        features=Features(\n",
    "            sentiment=SentimentOptions(),\n",
    "            emotion=EmotionOptions()\n",
    "        )\n",
    "    ).get_result()\n",
    "\n",
    "    # Add the results to the list\n",
    "    results.append({\"user\": user, \"analysis\": res})\n"
   ]
  },
  {
   "cell_type": "code",
   "execution_count": 70,
   "metadata": {},
   "outputs": [
    {
     "name": "stdout",
     "output_type": "stream",
     "text": [
      "Analysis for user 'He who shall not be named':\n",
      "{'usage': {'text_units': 1, 'text_characters': 64, 'features': 2}, 'sentiment': {'document': {'score': 0.960744, 'label': 'positive'}}, 'language': 'en', 'emotion': {'document': {'emotion': {'sadness': 0.055935, 'joy': 0.978087, 'fear': 0.027552, 'disgust': 0.001373, 'anger': 0.009313}}}}\n",
      "\n",
      "\n",
      "Analysis for user 'Nick':\n",
      "{'usage': {'text_units': 1, 'text_characters': 94, 'features': 2}, 'sentiment': {'document': {'score': -0.964547, 'label': 'negative'}}, 'language': 'en', 'emotion': {'document': {'emotion': {'sadness': 0.191369, 'joy': 0.340699, 'fear': 0.11987, 'disgust': 0.008043, 'anger': 0.096207}}}}\n",
      "\n",
      "\n"
     ]
    }
   ],
   "source": [
    "for result in results:\n",
    "    print(f\"Analysis for user '{result['user']}':\")\n",
    "    print(result['analysis'])\n",
    "    print(\"\\n\")"
   ]
  },
  {
   "cell_type": "code",
   "execution_count": null,
   "metadata": {},
   "outputs": [],
   "source": []
  }
 ],
 "metadata": {
  "kernelspec": {
   "display_name": "Python 3",
   "language": "python",
   "name": "python3"
  },
  "language_info": {
   "codemirror_mode": {
    "name": "ipython",
    "version": 3
   },
   "file_extension": ".py",
   "mimetype": "text/x-python",
   "name": "python",
   "nbconvert_exporter": "python",
   "pygments_lexer": "ipython3",
   "version": "3.9.13"
  }
 },
 "nbformat": 4,
 "nbformat_minor": 2
}
