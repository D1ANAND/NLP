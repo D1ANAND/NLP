{
 "cells": [
  {
   "cell_type": "code",
   "execution_count": 16,
   "metadata": {},
   "outputs": [],
   "source": [
    "url='https://api.au-syd.text-to-speech.watson.cloud.ibm.com/instances/825cc920-5f57-4578-b83e-22e95b707c66'\n",
    "apikey='jvmh1IuXrC_vo4NQqN-8eWZjyMqjL92dvcvVBn8nuzmk'"
   ]
  },
  {
   "cell_type": "code",
   "execution_count": 17,
   "metadata": {},
   "outputs": [],
   "source": [
    "from ibm_watson import TextToSpeechV1\n",
    "from ibm_cloud_sdk_core.authenticators import IAMAuthenticator"
   ]
  },
  {
   "cell_type": "code",
   "execution_count": 18,
   "metadata": {},
   "outputs": [],
   "source": [
    "#setup service\n",
    "authenticator=IAMAuthenticator(apikey)\n",
    "#new tts service\n",
    "tts = TextToSpeechV1(authenticator=authenticator)\n",
    "#set service url\n",
    "tts.set_service_url(url)"
   ]
  },
  {
   "cell_type": "code",
   "execution_count": 21,
   "metadata": {},
   "outputs": [],
   "source": [
    "text='aaaahhhhh yessssss ohhhhhhhhhhhhh  yeaaaaaaaaaahhhhhhhhhhhhhhh ohhhohohohohohhhhhhhhhhhhhhhhhhhhhoooooooooooooooohhhhhhhhhhhhhhhh YYYYYYYYYYYYYYYOOOOOOOOOO '"
   ]
  },
  {
   "cell_type": "code",
   "execution_count": 22,
   "metadata": {},
   "outputs": [],
   "source": [
    "with open ('./moans.mp3','wb') as audio_file:\n",
    "    res=tts.synthesize(text ,accept='audio/mp3', voice='en-GB_CharlotteV3Voice' ).get_result()\n",
    "    audio_file.write(res.content)"
   ]
  },
  {
   "cell_type": "code",
   "execution_count": null,
   "metadata": {},
   "outputs": [],
   "source": []
  }
 ],
 "metadata": {
  "kernelspec": {
   "display_name": "Python 3",
   "language": "python",
   "name": "python3"
  },
  "language_info": {
   "codemirror_mode": {
    "name": "ipython",
    "version": 3
   },
   "file_extension": ".py",
   "mimetype": "text/x-python",
   "name": "python",
   "nbconvert_exporter": "python",
   "pygments_lexer": "ipython3",
   "version": "3.9.13"
  }
 },
 "nbformat": 4,
 "nbformat_minor": 2
}
