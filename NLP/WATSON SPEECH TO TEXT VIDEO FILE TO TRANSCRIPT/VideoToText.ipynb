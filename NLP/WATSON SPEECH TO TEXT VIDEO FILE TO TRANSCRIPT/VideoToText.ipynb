{
 "cells": [
  {
   "cell_type": "markdown",
   "metadata": {},
   "source": [
    "## 0. Installing and Import Dependencies"
   ]
  },
  {
   "cell_type": "code",
   "execution_count": 8,
   "metadata": {},
   "outputs": [
    {
     "name": "stdout",
     "output_type": "stream",
     "text": [
      "Requirement already satisfied: ibm_watson in c:\\users\\asus\\appdata\\local\\packages\\pythonsoftwarefoundation.python.3.9_qbz5n2kfra8p0\\localcache\\local-packages\\python39\\site-packages (7.0.1)\n",
      "Requirement already satisfied: requests<3.0,>=2.0 in c:\\users\\asus\\appdata\\local\\packages\\pythonsoftwarefoundation.python.3.9_qbz5n2kfra8p0\\localcache\\local-packages\\python39\\site-packages (from ibm_watson) (2.31.0)\n",
      "Requirement already satisfied: python-dateutil>=2.5.3 in c:\\users\\asus\\appdata\\local\\packages\\pythonsoftwarefoundation.python.3.9_qbz5n2kfra8p0\\localcache\\local-packages\\python39\\site-packages (from ibm_watson) (2.8.2)\n",
      "Requirement already satisfied: websocket-client>=1.1.0 in c:\\users\\asus\\appdata\\local\\packages\\pythonsoftwarefoundation.python.3.9_qbz5n2kfra8p0\\localcache\\local-packages\\python39\\site-packages (from ibm_watson) (1.5.1)\n",
      "Requirement already satisfied: ibm-cloud-sdk-core==3.*,>=3.3.6 in c:\\users\\asus\\appdata\\local\\packages\\pythonsoftwarefoundation.python.3.9_qbz5n2kfra8p0\\localcache\\local-packages\\python39\\site-packages (from ibm_watson) (3.18.0)\n",
      "Requirement already satisfied: urllib3<2.0.0,>=1.26.18 in c:\\users\\asus\\appdata\\local\\packages\\pythonsoftwarefoundation.python.3.9_qbz5n2kfra8p0\\localcache\\local-packages\\python39\\site-packages (from ibm-cloud-sdk-core==3.*,>=3.3.6->ibm_watson) (1.26.18)\n",
      "Requirement already satisfied: PyJWT<3.0.0,>=2.8.0 in c:\\users\\asus\\appdata\\local\\packages\\pythonsoftwarefoundation.python.3.9_qbz5n2kfra8p0\\localcache\\local-packages\\python39\\site-packages (from ibm-cloud-sdk-core==3.*,>=3.3.6->ibm_watson) (2.8.0)\n",
      "Requirement already satisfied: six>=1.5 in c:\\users\\asus\\appdata\\local\\packages\\pythonsoftwarefoundation.python.3.9_qbz5n2kfra8p0\\localcache\\local-packages\\python39\\site-packages (from python-dateutil>=2.5.3->ibm_watson) (1.16.0)\n",
      "Requirement already satisfied: charset-normalizer<4,>=2 in c:\\users\\asus\\appdata\\local\\packages\\pythonsoftwarefoundation.python.3.9_qbz5n2kfra8p0\\localcache\\local-packages\\python39\\site-packages (from requests<3.0,>=2.0->ibm_watson) (3.1.0)\n",
      "Requirement already satisfied: idna<4,>=2.5 in c:\\users\\asus\\appdata\\local\\packages\\pythonsoftwarefoundation.python.3.9_qbz5n2kfra8p0\\localcache\\local-packages\\python39\\site-packages (from requests<3.0,>=2.0->ibm_watson) (3.4)\n",
      "Requirement already satisfied: certifi>=2017.4.17 in c:\\users\\asus\\appdata\\local\\packages\\pythonsoftwarefoundation.python.3.9_qbz5n2kfra8p0\\localcache\\local-packages\\python39\\site-packages (from requests<3.0,>=2.0->ibm_watson) (2023.5.7)\n",
      "Note: you may need to restart the kernel to use updated packages.\n"
     ]
    }
   ],
   "source": [
    "%pip install ibm_watson\n",
    "\n"
   ]
  },
  {
   "cell_type": "code",
   "execution_count": 9,
   "metadata": {},
   "outputs": [],
   "source": [
    "import os\n",
    "import subprocess\n",
    "from ibm_watson import SpeechToTextV1\n",
    "from ibm_watson.websocket import RecognizeCallback,AudioSource\n",
    "from ibm_cloud_sdk_core.authenticators import IAMAuthenticator"
   ]
  },
  {
   "cell_type": "markdown",
   "metadata": {},
   "source": [
    "## 1. Extract Audio"
   ]
  },
  {
   "cell_type": "code",
   "execution_count": 15,
   "metadata": {},
   "outputs": [
    {
     "name": "stdout",
     "output_type": "stream",
     "text": [
      "Conversion successful.\n"
     ]
    }
   ],
   "source": [
    "input_file = \"./air.mkv\"\n",
    "output_file = \"audiofile.wav\"\n",
    "\n",
    "ffmpeg_path = r\"C:\\ffmpeg-6.1-essentials_build\\bin\"\n",
    "\n",
    "# Construct and execute the ffmpeg command\n",
    "result= subprocess.run([os.path.join(ffmpeg_path, 'ffmpeg'), '-i', input_file, '-vn', '-ar', '44100', '-ac', '2', '-b:a', '160k', output_file], check=True)\n",
    "\n",
    "if result.returncode == 0:\n",
    "    print(\"Conversion successful.\")\n",
    "else:\n",
    "    print(f\"Error during conversion. Return code: {result.returncode}\")\n"
   ]
  },
  {
   "cell_type": "markdown",
   "metadata": {},
   "source": [
    "## 2. Setup STT Service"
   ]
  },
  {
   "cell_type": "code",
   "execution_count": 16,
   "metadata": {},
   "outputs": [],
   "source": [
    "url='https://api.au-syd.speech-to-text.watson.cloud.ibm.com/instances/9e94dbb7-782b-489b-bc85-2b574898317a'\n",
    "apikey='oQ3kQ-Hh3YXspHFlu_ve54xFEb97M4p3TrTQuCcUv9uD'"
   ]
  },
  {
   "cell_type": "code",
   "execution_count": 17,
   "metadata": {},
   "outputs": [],
   "source": [
    "#setup services\n",
    "authenticator= IAMAuthenticator(apikey)\n",
    "#New STT service\n",
    "stt=SpeechToTextV1(authenticator=authenticator)\n",
    "#Set Service URL\n",
    "stt.set_service_url(url)"
   ]
  },
  {
   "cell_type": "markdown",
   "metadata": {},
   "source": [
    "## 3. Open Audio Source and Convert"
   ]
  },
  {
   "cell_type": "code",
   "execution_count": 18,
   "metadata": {},
   "outputs": [
    {
     "ename": "ApiException",
     "evalue": "Error: <HTML><HEAD>\n<TITLE>Internal Server Error</TITLE>\n</HEAD><BODY>\n<H1>Internal Server Error - Write</H1>\nThe server encountered an internal error or misconfiguration and was unable to\ncomplete your request.<P>\nReference&#32;&#35;4&#46;4b052017&#46;1700683987&#46;11fae1ee\n</BODY></HTML>\n, Code: 503",
     "output_type": "error",
     "traceback": [
      "\u001b[1;31m---------------------------------------------------------------------------\u001b[0m",
      "\u001b[1;31mApiException\u001b[0m                              Traceback (most recent call last)",
      "\u001b[1;32mc:\\Users\\ASUS\\Desktop\\NLP TITS\\WATSON SPEECH TO TEXT VIDEO FILE TO TRANSCRIPT\\VideoToText.ipynb Cell 10\u001b[0m line \u001b[0;36m2\n\u001b[0;32m      <a href='vscode-notebook-cell:/c%3A/Users/ASUS/Desktop/NLP%20TITS/WATSON%20SPEECH%20TO%20TEXT%20VIDEO%20FILE%20TO%20TRANSCRIPT/VideoToText.ipynb#W5sZmlsZQ%3D%3D?line=0'>1</a>\u001b[0m \u001b[39mwith\u001b[39;00m \u001b[39mopen\u001b[39m(\u001b[39m'\u001b[39m\u001b[39maudiofile.wav\u001b[39m\u001b[39m'\u001b[39m,\u001b[39m'\u001b[39m\u001b[39mrb\u001b[39m\u001b[39m'\u001b[39m) \u001b[39mas\u001b[39;00m f:\n\u001b[1;32m----> <a href='vscode-notebook-cell:/c%3A/Users/ASUS/Desktop/NLP%20TITS/WATSON%20SPEECH%20TO%20TEXT%20VIDEO%20FILE%20TO%20TRANSCRIPT/VideoToText.ipynb#W5sZmlsZQ%3D%3D?line=1'>2</a>\u001b[0m     res\u001b[39m=\u001b[39m stt\u001b[39m.\u001b[39;49mrecognize(audio\u001b[39m=\u001b[39;49mf,content_type\u001b[39m=\u001b[39;49m\u001b[39m'\u001b[39;49m\u001b[39maudio.wav\u001b[39;49m\u001b[39m'\u001b[39;49m,model\u001b[39m=\u001b[39;49m\u001b[39m'\u001b[39;49m\u001b[39men-US_Telephony\u001b[39;49m\u001b[39m'\u001b[39;49m)\u001b[39m.\u001b[39mget_result()\n",
      "File \u001b[1;32m~\\AppData\\Local\\Packages\\PythonSoftwareFoundation.Python.3.9_qbz5n2kfra8p0\\LocalCache\\local-packages\\Python39\\site-packages\\ibm_watson\\speech_to_text_v1.py:624\u001b[0m, in \u001b[0;36mSpeechToTextV1.recognize\u001b[1;34m(self, audio, content_type, model, language_customization_id, acoustic_customization_id, base_model_version, customization_weight, inactivity_timeout, keywords, keywords_threshold, max_alternatives, word_alternatives_threshold, word_confidence, timestamps, profanity_filter, smart_formatting, speaker_labels, grammar_name, redaction, audio_metrics, end_of_phrase_silence_time, split_transcript_at_phrase_end, speech_detector_sensitivity, background_audio_suppression, low_latency, character_insertion_bias, **kwargs)\u001b[0m\n\u001b[0;32m    617\u001b[0m url \u001b[39m=\u001b[39m \u001b[39m'\u001b[39m\u001b[39m/v1/recognize\u001b[39m\u001b[39m'\u001b[39m\n\u001b[0;32m    618\u001b[0m request \u001b[39m=\u001b[39m \u001b[39mself\u001b[39m\u001b[39m.\u001b[39mprepare_request(method\u001b[39m=\u001b[39m\u001b[39m'\u001b[39m\u001b[39mPOST\u001b[39m\u001b[39m'\u001b[39m,\n\u001b[0;32m    619\u001b[0m                                url\u001b[39m=\u001b[39murl,\n\u001b[0;32m    620\u001b[0m                                headers\u001b[39m=\u001b[39mheaders,\n\u001b[0;32m    621\u001b[0m                                params\u001b[39m=\u001b[39mparams,\n\u001b[0;32m    622\u001b[0m                                data\u001b[39m=\u001b[39mdata)\n\u001b[1;32m--> 624\u001b[0m response \u001b[39m=\u001b[39m \u001b[39mself\u001b[39m\u001b[39m.\u001b[39msend(request, \u001b[39m*\u001b[39m\u001b[39m*\u001b[39mkwargs)\n\u001b[0;32m    625\u001b[0m \u001b[39mreturn\u001b[39;00m response\n",
      "File \u001b[1;32m~\\AppData\\Local\\Packages\\PythonSoftwareFoundation.Python.3.9_qbz5n2kfra8p0\\LocalCache\\local-packages\\Python39\\site-packages\\ibm_cloud_sdk_core\\base_service.py:343\u001b[0m, in \u001b[0;36mBaseService.send\u001b[1;34m(self, request, **kwargs)\u001b[0m\n\u001b[0;32m    340\u001b[0m         \u001b[39mreturn\u001b[39;00m DetailedResponse(response\u001b[39m=\u001b[39mresult, headers\u001b[39m=\u001b[39mresponse\u001b[39m.\u001b[39mheaders, status_code\u001b[39m=\u001b[39mresponse\u001b[39m.\u001b[39mstatus_code)\n\u001b[0;32m    342\u001b[0m     \u001b[39m# Received error status code from server, raise an APIException.\u001b[39;00m\n\u001b[1;32m--> 343\u001b[0m     \u001b[39mraise\u001b[39;00m ApiException(response\u001b[39m.\u001b[39mstatus_code, http_response\u001b[39m=\u001b[39mresponse)\n\u001b[0;32m    344\u001b[0m \u001b[39mexcept\u001b[39;00m requests\u001b[39m.\u001b[39mexceptions\u001b[39m.\u001b[39mSSLError:\n\u001b[0;32m    345\u001b[0m     logger\u001b[39m.\u001b[39mexception(\u001b[39mself\u001b[39m\u001b[39m.\u001b[39mERROR_MSG_DISABLE_SSL)\n",
      "\u001b[1;31mApiException\u001b[0m: Error: <HTML><HEAD>\n<TITLE>Internal Server Error</TITLE>\n</HEAD><BODY>\n<H1>Internal Server Error - Write</H1>\nThe server encountered an internal error or misconfiguration and was unable to\ncomplete your request.<P>\nReference&#32;&#35;4&#46;4b052017&#46;1700683987&#46;11fae1ee\n</BODY></HTML>\n, Code: 503"
     ]
    }
   ],
   "source": [
    "with open('audiofile.wav','rb') as f:\n",
    "    res= stt.recognize(audio=f,content_type='audio.wav',model='en-US_Telephony').get_result()\n",
    "    "
   ]
  },
  {
   "cell_type": "code",
   "execution_count": 19,
   "metadata": {},
   "outputs": [
    {
     "ename": "NameError",
     "evalue": "name 'res' is not defined",
     "output_type": "error",
     "traceback": [
      "\u001b[1;31m---------------------------------------------------------------------------\u001b[0m",
      "\u001b[1;31mNameError\u001b[0m                                 Traceback (most recent call last)",
      "\u001b[1;32mc:\\Users\\ASUS\\Desktop\\NLP TITS\\WATSON SPEECH TO TEXT VIDEO FILE TO TRANSCRIPT\\VideoToText.ipynb Cell 11\u001b[0m line \u001b[0;36m1\n\u001b[1;32m----> <a href='vscode-notebook-cell:/c%3A/Users/ASUS/Desktop/NLP%20TITS/WATSON%20SPEECH%20TO%20TEXT%20VIDEO%20FILE%20TO%20TRANSCRIPT/VideoToText.ipynb#X16sZmlsZQ%3D%3D?line=0'>1</a>\u001b[0m res\n",
      "\u001b[1;31mNameError\u001b[0m: name 'res' is not defined"
     ]
    }
   ],
   "source": [
    "res"
   ]
  },
  {
   "cell_type": "markdown",
   "metadata": {},
   "source": [
    "## 4. Process Results and Output to Text"
   ]
  },
  {
   "cell_type": "code",
   "execution_count": 20,
   "metadata": {},
   "outputs": [
    {
     "ename": "NameError",
     "evalue": "name 'res' is not defined",
     "output_type": "error",
     "traceback": [
      "\u001b[1;31m---------------------------------------------------------------------------\u001b[0m",
      "\u001b[1;31mNameError\u001b[0m                                 Traceback (most recent call last)",
      "\u001b[1;32mc:\\Users\\ASUS\\Desktop\\NLP TITS\\WATSON SPEECH TO TEXT VIDEO FILE TO TRANSCRIPT\\VideoToText.ipynb Cell 13\u001b[0m line \u001b[0;36m1\n\u001b[1;32m----> <a href='vscode-notebook-cell:/c%3A/Users/ASUS/Desktop/NLP%20TITS/WATSON%20SPEECH%20TO%20TEXT%20VIDEO%20FILE%20TO%20TRANSCRIPT/VideoToText.ipynb#W6sZmlsZQ%3D%3D?line=0'>1</a>\u001b[0m \u001b[39mlen\u001b[39m(res[\u001b[39m'\u001b[39m\u001b[39mresults\u001b[39m\u001b[39m'\u001b[39m])\n",
      "\u001b[1;31mNameError\u001b[0m: name 'res' is not defined"
     ]
    }
   ],
   "source": [
    "len(res['results'])"
   ]
  },
  {
   "cell_type": "code",
   "execution_count": 21,
   "metadata": {},
   "outputs": [
    {
     "ename": "NameError",
     "evalue": "name 'res' is not defined",
     "output_type": "error",
     "traceback": [
      "\u001b[1;31m---------------------------------------------------------------------------\u001b[0m",
      "\u001b[1;31mNameError\u001b[0m                                 Traceback (most recent call last)",
      "\u001b[1;32mc:\\Users\\ASUS\\Desktop\\NLP TITS\\WATSON SPEECH TO TEXT VIDEO FILE TO TRANSCRIPT\\VideoToText.ipynb Cell 14\u001b[0m line \u001b[0;36m1\n\u001b[1;32m----> <a href='vscode-notebook-cell:/c%3A/Users/ASUS/Desktop/NLP%20TITS/WATSON%20SPEECH%20TO%20TEXT%20VIDEO%20FILE%20TO%20TRANSCRIPT/VideoToText.ipynb#X20sZmlsZQ%3D%3D?line=0'>1</a>\u001b[0m text \u001b[39m=\u001b[39m [result[\u001b[39m'\u001b[39m\u001b[39malternatives\u001b[39m\u001b[39m'\u001b[39m][\u001b[39m0\u001b[39m][\u001b[39m'\u001b[39m\u001b[39mtranscriot\u001b[39m\u001b[39m'\u001b[39m]\u001b[39m.\u001b[39mrstrip()\u001b[39m+\u001b[39m\u001b[39m'\u001b[39m\u001b[39m.\u001b[39m\u001b[39m\\n\u001b[39;00m\u001b[39m'\u001b[39m \u001b[39mfor\u001b[39;00m result \u001b[39min\u001b[39;00m res [\u001b[39m'\u001b[39m\u001b[39mresults\u001b[39m\u001b[39m'\u001b[39m]]\n",
      "\u001b[1;31mNameError\u001b[0m: name 'res' is not defined"
     ]
    }
   ],
   "source": [
    "text = [result['alternatives'][0]['transcriot'].rstrip()+'.\\n' for result in res ['results']]"
   ]
  },
  {
   "cell_type": "code",
   "execution_count": 23,
   "metadata": {},
   "outputs": [
    {
     "ename": "NameError",
     "evalue": "name 'text' is not defined",
     "output_type": "error",
     "traceback": [
      "\u001b[1;31m---------------------------------------------------------------------------\u001b[0m",
      "\u001b[1;31mNameError\u001b[0m                                 Traceback (most recent call last)",
      "\u001b[1;32mc:\\Users\\ASUS\\Desktop\\NLP TITS\\WATSON SPEECH TO TEXT VIDEO FILE TO TRANSCRIPT\\VideoToText.ipynb Cell 15\u001b[0m line \u001b[0;36m1\n\u001b[1;32m----> <a href='vscode-notebook-cell:/c%3A/Users/ASUS/Desktop/NLP%20TITS/WATSON%20SPEECH%20TO%20TEXT%20VIDEO%20FILE%20TO%20TRANSCRIPT/VideoToText.ipynb#X21sZmlsZQ%3D%3D?line=0'>1</a>\u001b[0m text \u001b[39m=\u001b[39m[para[\u001b[39m0\u001b[39m]\u001b[39m.\u001b[39mtitle()\u001b[39m+\u001b[39mpara[\u001b[39m1\u001b[39m:] \u001b[39mfor\u001b[39;00m para \u001b[39min\u001b[39;00m text]\n\u001b[0;32m      <a href='vscode-notebook-cell:/c%3A/Users/ASUS/Desktop/NLP%20TITS/WATSON%20SPEECH%20TO%20TEXT%20VIDEO%20FILE%20TO%20TRANSCRIPT/VideoToText.ipynb#X21sZmlsZQ%3D%3D?line=1'>2</a>\u001b[0m transcript \u001b[39m=\u001b[39m \u001b[39m'\u001b[39m\u001b[39m'\u001b[39m\u001b[39m.\u001b[39mjoin(text)\n\u001b[0;32m      <a href='vscode-notebook-cell:/c%3A/Users/ASUS/Desktop/NLP%20TITS/WATSON%20SPEECH%20TO%20TEXT%20VIDEO%20FILE%20TO%20TRANSCRIPT/VideoToText.ipynb#X21sZmlsZQ%3D%3D?line=2'>3</a>\u001b[0m \u001b[39mwith\u001b[39;00m \u001b[39mopen\u001b[39m(\u001b[39m'\u001b[39m\u001b[39moutput.txt\u001b[39m\u001b[39m'\u001b[39m,\u001b[39m'\u001b[39m\u001b[39mw\u001b[39m\u001b[39m'\u001b[39m)\u001b[39mas\u001b[39;00m out:\n",
      "\u001b[1;31mNameError\u001b[0m: name 'text' is not defined"
     ]
    }
   ],
   "source": [
    "text =[para[0].title()+para[1:] for para in text]\n",
    "transcript = ''.join(text)\n",
    "with open('output.txt','w')as out:\n",
    "    out.writelines(transcript)\n"
   ]
  }
 ],
 "metadata": {
  "kernelspec": {
   "display_name": "Python 3",
   "language": "python",
   "name": "python3"
  },
  "language_info": {
   "codemirror_mode": {
    "name": "ipython",
    "version": 3
   },
   "file_extension": ".py",
   "mimetype": "text/x-python",
   "name": "python",
   "nbconvert_exporter": "python",
   "pygments_lexer": "ipython3",
   "version": "3.9.13"
  }
 },
 "nbformat": 4,
 "nbformat_minor": 2
}
