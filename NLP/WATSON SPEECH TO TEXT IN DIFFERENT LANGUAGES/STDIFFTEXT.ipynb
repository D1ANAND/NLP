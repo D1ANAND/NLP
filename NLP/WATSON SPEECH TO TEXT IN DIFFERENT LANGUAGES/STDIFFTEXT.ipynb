{
 "cells": [
  {
   "cell_type": "markdown",
   "metadata": {},
   "source": [
    "## 1. Authenticate"
   ]
  },
  {
   "cell_type": "code",
   "execution_count": 3,
   "metadata": {},
   "outputs": [],
   "source": [
    "from ibm_watson import SpeechToTextV1, LanguageTranslatorV3\n",
    "from ibm_cloud_sdk_core.authenticators import IAMAuthenticator"
   ]
  },
  {
   "cell_type": "code",
   "execution_count": 4,
   "metadata": {},
   "outputs": [],
   "source": [
    "ltapikey='vHmzIdCP_Lnjqb4ZH1YWFI8sbq32-1Wa8TdQ6BbuqTEL'\n",
    "lturl='https://api.au-syd.language-translator.watson.cloud.ibm.com/instances/3ccce41a-57cb-4059-bf83-ca5808d8aef9'\n",
    "\n",
    "\n",
    "stturl='https://api.au-syd.speech-to-text.watson.cloud.ibm.com/instances/9e94dbb7-782b-489b-bc85-2b574898317a'\n",
    "sttapikey='oQ3kQ-Hh3YXspHFlu_ve54xFEb97M4p3TrTQuCcUv9uD'"
   ]
  },
  {
   "cell_type": "code",
   "execution_count": 5,
   "metadata": {},
   "outputs": [],
   "source": [
    "#import deps\n",
    "authenticator = IAMAuthenticator(ltapikey)\n",
    "lt=LanguageTranslatorV3(version='2019-05-01',authenticator=authenticator)\n",
    "lt.set_service_url(lturl)"
   ]
  },
  {
   "cell_type": "code",
   "execution_count": 6,
   "metadata": {},
   "outputs": [],
   "source": [
    "#setup services\n",
    "authenticator= IAMAuthenticator(sttapikey)\n",
    "#New STT service\n",
    "stt=SpeechToTextV1(authenticator=authenticator)\n",
    "#Set Service URL\n",
    "stt.set_service_url(stturl)"
   ]
  },
  {
   "cell_type": "markdown",
   "metadata": {},
   "source": [
    "## 2. Speech to Text"
   ]
  },
  {
   "cell_type": "code",
   "execution_count": 7,
   "metadata": {},
   "outputs": [],
   "source": [
    "with open('Superman.mp3','rb') as f:\n",
    "    res=stt.recognize(audio=f,content_type='audio/mp3',model='en-US_Telephony').get_result()"
   ]
  },
  {
   "cell_type": "code",
   "execution_count": 8,
   "metadata": {},
   "outputs": [
    {
     "data": {
      "text/plain": [
       "{'result_index': 0,\n",
       " 'results': [{'final': True,\n",
       "   'alternatives': [{'transcript': \"i'm single now got no bringing on a tanger now i never let another bring me down in a relationship in state you can tell point to the change i to the market say no name ever since i public service i'm a different man and it's my nick my catch i try to have my **** don't put out a put you well well they couldn't fit so fire to put you out by you i wouldn't buy you life trying to be running white put you more twice but i do know one thing no they go saturday to sunday monday monday through sunday you may be one day maybe will some day grow drunk and that parking one way home i can't be \",\n",
       "     'confidence': 0.71}]},\n",
       "  {'final': True,\n",
       "   'alternatives': [{'transcript': \"that's about a far should already go be friends never know what kind of car much party and then you don't want and even why i don't want to put when i see you would god much prime you were not a telephone but but i guess that just do have to ever be i never love you we just met and i just talked to but i do know one thing no it just takes some they go saturday to sunday monday monday through sunday you may be one game maybe will some day grow ventures from cancel that parking one way home i mean i don't see what the list anyway don't partial to me i love that name pieces that's great first of all you don't know more so at all that so i plan you want that box all across you good loading you must be going okay don't touch with you can't grab up with back hands put and drank on that pack who just do your chance \",\n",
       "     'confidence': 0.73}]},\n",
       "  {'final': True,\n",
       "   'alternatives': [{'transcript': 'your plan but i do know one thing no they go saturday to sunday monday monday through sunday maybe one day maybe some day grow drunk and on that buck in one way home ',\n",
       "     'confidence': 0.76}]}]}"
      ]
     },
     "execution_count": 8,
     "metadata": {},
     "output_type": "execute_result"
    }
   ],
   "source": [
    "res"
   ]
  },
  {
   "cell_type": "code",
   "execution_count": 9,
   "metadata": {},
   "outputs": [],
   "source": [
    "voicetext = res['results'][0]['alternatives'][0]['transcript']"
   ]
  },
  {
   "cell_type": "code",
   "execution_count": 10,
   "metadata": {},
   "outputs": [],
   "source": [
    "vc=res['results']"
   ]
  },
  {
   "cell_type": "markdown",
   "metadata": {},
   "source": [
    "## 3. Text Translation"
   ]
  },
  {
   "cell_type": "code",
   "execution_count": 11,
   "metadata": {},
   "outputs": [],
   "source": [
    "greek='en-el'\n",
    "chinese='en-zh'\n",
    "hindi='en-hi'"
   ]
  },
  {
   "cell_type": "code",
   "execution_count": 18,
   "metadata": {},
   "outputs": [],
   "source": [
    "translation = lt.translate(text=voicetext,model_id=hindi).get_result()"
   ]
  },
  {
   "cell_type": "code",
   "execution_count": 13,
   "metadata": {},
   "outputs": [],
   "source": [
    "translatedtext= translation['translations'][0]['translation']"
   ]
  },
  {
   "cell_type": "code",
   "execution_count": 14,
   "metadata": {},
   "outputs": [
    {
     "data": {
      "text/plain": [
       "'मैं अब एक बार फिर गुस्से में नहीं ला रहा हूं, अब मैं एक दूसरे को राज्य में नहीं ले जा रहा हूं. मैं बाजार में बदलाव की बात बता सकते हैं. मैं सार्वजनिक सेवा के बाद भी कोई नाम नहीं ले सकता. मैं एक अलग आदमी हूँ और यह मेरी पकड़ है मेरी अपनी ****** एक डाल दिया है ... ... आप अच्छी तरह से एक डाल दिया है ... ... आप अच्छी तरह से यह आग नहीं फिट कर सकते हैं ... ... आप के द्वारा आप बाहर डाल दिया आग के लिए इस तरह से आग के लिए.आप के जीवन को खरीद कर आप का जीवन दो बार भाग रहा है लेकिन मैं एक बात पता नहीं है वे शनिवार के एक दिन के माध्यम से रविवार के एक दिन हो सकता है रविवार के माध्यम से आप एक दिन हो सकता है एक दिन हो सकता है शायद कुछ दिन हो सकता है और उस पार्किंग एक तरह से घर मैं नहीं हो सकता है '"
      ]
     },
     "execution_count": 14,
     "metadata": {},
     "output_type": "execute_result"
    }
   ],
   "source": [
    "translatedtext"
   ]
  },
  {
   "cell_type": "markdown",
   "metadata": {},
   "source": [
    "# 4. Output Translation"
   ]
  },
  {
   "cell_type": "code",
   "execution_count": 15,
   "metadata": {},
   "outputs": [],
   "source": [
    "with open('translated song.txt','w',encoding='utf-8') as f:\n",
    "    f.write(translatedtext)"
   ]
  }
 ],
 "metadata": {
  "kernelspec": {
   "display_name": "Python 3",
   "language": "python",
   "name": "python3"
  },
  "language_info": {
   "codemirror_mode": {
    "name": "ipython",
    "version": 3
   },
   "file_extension": ".py",
   "mimetype": "text/x-python",
   "name": "python",
   "nbconvert_exporter": "python",
   "pygments_lexer": "ipython3",
   "version": "3.9.13"
  }
 },
 "nbformat": 4,
 "nbformat_minor": 2
}
