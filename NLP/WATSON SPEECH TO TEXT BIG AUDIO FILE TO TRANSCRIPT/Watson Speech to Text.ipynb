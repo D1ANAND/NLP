{
 "cells": [
  {
   "cell_type": "markdown",
   "metadata": {},
   "source": [
    "## 0. Installing Dependencies"
   ]
  },
  {
   "cell_type": "code",
   "execution_count": 1,
   "metadata": {},
   "outputs": [
    {
     "name": "stdout",
     "output_type": "stream",
     "text": [
      "Requirement already satisfied: ibm_watson in c:\\users\\asus\\appdata\\local\\packages\\pythonsoftwarefoundation.python.3.9_qbz5n2kfra8p0\\localcache\\local-packages\\python39\\site-packages (7.0.1)\n",
      "Requirement already satisfied: requests<3.0,>=2.0 in c:\\users\\asus\\appdata\\local\\packages\\pythonsoftwarefoundation.python.3.9_qbz5n2kfra8p0\\localcache\\local-packages\\python39\\site-packages (from ibm_watson) (2.31.0)\n",
      "Requirement already satisfied: python-dateutil>=2.5.3 in c:\\users\\asus\\appdata\\local\\packages\\pythonsoftwarefoundation.python.3.9_qbz5n2kfra8p0\\localcache\\local-packages\\python39\\site-packages (from ibm_watson) (2.8.2)\n",
      "Requirement already satisfied: websocket-client>=1.1.0 in c:\\users\\asus\\appdata\\local\\packages\\pythonsoftwarefoundation.python.3.9_qbz5n2kfra8p0\\localcache\\local-packages\\python39\\site-packages (from ibm_watson) (1.5.1)\n",
      "Requirement already satisfied: ibm-cloud-sdk-core==3.*,>=3.3.6 in c:\\users\\asus\\appdata\\local\\packages\\pythonsoftwarefoundation.python.3.9_qbz5n2kfra8p0\\localcache\\local-packages\\python39\\site-packages (from ibm_watson) (3.18.0)\n",
      "Requirement already satisfied: urllib3<2.0.0,>=1.26.18 in c:\\users\\asus\\appdata\\local\\packages\\pythonsoftwarefoundation.python.3.9_qbz5n2kfra8p0\\localcache\\local-packages\\python39\\site-packages (from ibm-cloud-sdk-core==3.*,>=3.3.6->ibm_watson) (1.26.18)\n",
      "Requirement already satisfied: PyJWT<3.0.0,>=2.8.0 in c:\\users\\asus\\appdata\\local\\packages\\pythonsoftwarefoundation.python.3.9_qbz5n2kfra8p0\\localcache\\local-packages\\python39\\site-packages (from ibm-cloud-sdk-core==3.*,>=3.3.6->ibm_watson) (2.8.0)\n",
      "Requirement already satisfied: six>=1.5 in c:\\users\\asus\\appdata\\local\\packages\\pythonsoftwarefoundation.python.3.9_qbz5n2kfra8p0\\localcache\\local-packages\\python39\\site-packages (from python-dateutil>=2.5.3->ibm_watson) (1.16.0)\n",
      "Requirement already satisfied: charset-normalizer<4,>=2 in c:\\users\\asus\\appdata\\local\\packages\\pythonsoftwarefoundation.python.3.9_qbz5n2kfra8p0\\localcache\\local-packages\\python39\\site-packages (from requests<3.0,>=2.0->ibm_watson) (3.1.0)\n",
      "Requirement already satisfied: idna<4,>=2.5 in c:\\users\\asus\\appdata\\local\\packages\\pythonsoftwarefoundation.python.3.9_qbz5n2kfra8p0\\localcache\\local-packages\\python39\\site-packages (from requests<3.0,>=2.0->ibm_watson) (3.4)\n",
      "Requirement already satisfied: certifi>=2017.4.17 in c:\\users\\asus\\appdata\\local\\packages\\pythonsoftwarefoundation.python.3.9_qbz5n2kfra8p0\\localcache\\local-packages\\python39\\site-packages (from requests<3.0,>=2.0->ibm_watson) (2023.5.7)\n",
      "Note: you may need to restart the kernel to use updated packages.\n"
     ]
    }
   ],
   "source": [
    "%pip install ibm_watson"
   ]
  },
  {
   "cell_type": "code",
   "execution_count": 1,
   "metadata": {},
   "outputs": [],
   "source": [
    "from ibm_watson import SpeechToTextV1 #speech to text converter import kr rhe hai\n",
    "from ibm_cloud_sdk_core.authenticators import IAMAuthenticator #this will authenticate our api"
   ]
  },
  {
   "cell_type": "markdown",
   "metadata": {},
   "source": [
    "## 1. Setup STT SERVICE"
   ]
  },
  {
   "cell_type": "code",
   "execution_count": 2,
   "metadata": {},
   "outputs": [],
   "source": [
    "url='https://api.au-syd.speech-to-text.watson.cloud.ibm.com/instances/9e94dbb7-782b-489b-bc85-2b574898317a'\n",
    "apikey='oQ3kQ-Hh3YXspHFlu_ve54xFEb97M4p3TrTQuCcUv9uD'"
   ]
  },
  {
   "cell_type": "code",
   "execution_count": 3,
   "metadata": {},
   "outputs": [],
   "source": [
    "#setup services\n",
    "authenticator= IAMAuthenticator(apikey)\n",
    "#New STT service\n",
    "stt=SpeechToTextV1(authenticator=authenticator)\n",
    "#Set Service URL\n",
    "stt.set_service_url(url)"
   ]
  },
  {
   "cell_type": "markdown",
   "metadata": {},
   "source": [
    "## 2. Compress and Split Audio"
   ]
  },
  {
   "cell_type": "markdown",
   "metadata": {},
   "source": [
    "we perform splitting and segmaentation in long audio files so that we can work with them more easily"
   ]
  },
  {
   "cell_type": "code",
   "execution_count": 12,
   "metadata": {},
   "outputs": [
    {
     "name": "stdout",
     "output_type": "stream",
     "text": [
      "Audio file successfully segmented.\n"
     ]
    }
   ],
   "source": [
    "import subprocess\n",
    "import os\n",
    "# to convert wav to mp3 file\n",
    "\n",
    "# input_file = \"Supermanwav.wav\"\n",
    "# output_file = \"Superman2.mp3\"\n",
    "# ffmpeg_path = r\"C:\\ffmpeg-6.1-essentials_build\\bin\"\n",
    "\n",
    "# # Construct and execute the ffmpeg command\n",
    "# result= subprocess.run([os.path.join(ffmpeg_path, 'ffmpeg'), '-i', input_file, '-vn', '-ar', '44100', '-ac', '2', '-b:a', '192k', output_file], check=True)\n",
    "\n",
    "# if result.returncode == 0:\n",
    "#     print(\"Conversion successful.\")\n",
    "# else:\n",
    "#     print(f\"Error during conversion. Return code: {result.returncode}\")\n",
    "\n",
    "\n",
    "\n",
    "input_file = \"./Superman.mp3\"\n",
    "output_pattern = \"%03d.mp3\"\n",
    "segment_time = 360\n",
    "ffmpeg_path = r\"C:\\ffmpeg-6.1-essentials_build\\bin\"\n",
    "\n",
    "# Construct and execute the ffmpeg command\n",
    "result = subprocess.run([os.path.join(ffmpeg_path, 'ffmpeg'), '-i', input_file, '-f', 'segment', '-segment_time', str(segment_time), '-c', 'copy', output_pattern], check=False)\n",
    "\n",
    "if result.returncode == 0:\n",
    "    print(\"Audio file successfully segmented.\")\n",
    "\n"
   ]
  },
  {
   "cell_type": "code",
   "execution_count": 13,
   "metadata": {},
   "outputs": [],
   "source": [
    "files=[]\n",
    "for filename in os.listdir('.'):\n",
    "    if filename.endswith(\".mp3\")and filename != 'Superman.mp3':\n",
    "        files.append(filename)\n",
    "files.sort()"
   ]
  },
  {
   "cell_type": "code",
   "execution_count": 14,
   "metadata": {},
   "outputs": [
    {
     "data": {
      "text/plain": [
       "['000.mp3']"
      ]
     },
     "execution_count": 14,
     "metadata": {},
     "output_type": "execute_result"
    }
   ],
   "source": [
    "files"
   ]
  },
  {
   "cell_type": "markdown",
   "metadata": {},
   "source": [
    "## 3. Perform conversion\n"
   ]
  },
  {
   "cell_type": "code",
   "execution_count": 15,
   "metadata": {},
   "outputs": [],
   "source": [
    "results=[]\n",
    "for filename in files:\n",
    "    with open(filename,'rb')as f:\n",
    "        res=stt.recognize(audio=f,content_type='audio/mp3',model='en-US_Telephony', inactivity_timeout=360).get_result()\n",
    "        results.append(res)"
   ]
  },
  {
   "cell_type": "code",
   "execution_count": 17,
   "metadata": {},
   "outputs": [],
   "source": [
    "text = []\n",
    "for file in results:\n",
    "    for result in file ['results']:\n",
    "       for alternative in result['alternatives']:\n",
    "            text.append(alternative['transcript'].rstrip() + '.\\n')"
   ]
  },
  {
   "cell_type": "code",
   "execution_count": 18,
   "metadata": {},
   "outputs": [
    {
     "data": {
      "text/plain": [
       "[\"i'm single now got no bringing on a tanger now i never let another chick bring me down in a relationship make me think you can tell point to the change i to the market new name ever since i want to face on a different man and it's my dick my catch i try to have my **** don't put out well so fire to put you out by you i wouldn't buy you life trying to be buying white what you more through twice but i do know one thing no they go saturday to sunday monday monday through sunday you may be a few one days maybe some day grown just just drunk and on that buck in one way home i can't just don't give me wrong.\\n\",\n",
       " \"body knows and we bought so what that's about a far shape he goes movie friends or you again round and be born you would say never know what kind of car much party and then you don't want either knew why i don't want to put when i see you with god much prime between you were not a telephone but but i kept that just to ever be jumped up to i never love you we just met and i just talked to but i do know one thing no it just takes some they go saturday to sunday monday monday through sunday you may be one game maybe will some day grow drunk and that **** one way home i mean i'm not about big i don't see what the list anyway don't partial to me i love that name what's that that's great first of all you don't know more so at all so that my more so i plan you want that box all across you good loading you must be going okay you want what you can have girl that bad don't touch with you with back hands put anthrax on that pack and flap you through your chance don't mean to your plan i do know one thing no they go saturday to sunday monday.\\n\",\n",
       " \"monday through sunday maybe one day maybe grow drunk and that book in one way home i mean i can't just.\\n\"]"
      ]
     },
     "execution_count": 18,
     "metadata": {},
     "output_type": "execute_result"
    }
   ],
   "source": [
    "text"
   ]
  },
  {
   "cell_type": "code",
   "execution_count": 19,
   "metadata": {},
   "outputs": [],
   "source": [
    "with open(\"lyrics of Superman.txt\",'w') as out:\n",
    "    out.writelines(text)"
   ]
  },
  {
   "cell_type": "code",
   "execution_count": null,
   "metadata": {},
   "outputs": [],
   "source": []
  }
 ],
 "metadata": {
  "kernelspec": {
   "display_name": "Python 3",
   "language": "python",
   "name": "python3"
  },
  "language_info": {
   "codemirror_mode": {
    "name": "ipython",
    "version": 3
   },
   "file_extension": ".py",
   "mimetype": "text/x-python",
   "name": "python",
   "nbconvert_exporter": "python",
   "pygments_lexer": "ipython3",
   "version": "3.9.13"
  }
 },
 "nbformat": 4,
 "nbformat_minor": 2
}
